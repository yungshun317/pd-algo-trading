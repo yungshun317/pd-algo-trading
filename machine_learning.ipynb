{
 "cells": [
  {
   "cell_type": "markdown",
   "id": "be2df886-11cf-4511-bad8-37836e8f8c39",
   "metadata": {},
   "source": [
    "# 1. Feature Engineering for Time Series Forecasting"
   ]
  },
  {
   "cell_type": "code",
   "execution_count": null,
   "id": "a48bbc79-caae-4f87-b622-b2df068b6b7a",
   "metadata": {},
   "outputs": [],
   "source": []
  },
  {
   "cell_type": "markdown",
   "id": "973735d9-0dc8-41b7-a236-9a982c8333b4",
   "metadata": {},
   "source": [
    "# 2. Machine Learning for Time Series Forecasting"
   ]
  },
  {
   "cell_type": "code",
   "execution_count": null,
   "id": "6c7c20c3-18e9-47a9-a452-06c8902f454b",
   "metadata": {},
   "outputs": [],
   "source": []
  }
 ],
 "metadata": {
  "kernelspec": {
   "display_name": "Python 3 (ipykernel)",
   "language": "python",
   "name": "python3"
  },
  "language_info": {
   "codemirror_mode": {
    "name": "ipython",
    "version": 3
   },
   "file_extension": ".py",
   "mimetype": "text/x-python",
   "name": "python",
   "nbconvert_exporter": "python",
   "pygments_lexer": "ipython3",
   "version": "3.12.3"
  }
 },
 "nbformat": 4,
 "nbformat_minor": 5
}
